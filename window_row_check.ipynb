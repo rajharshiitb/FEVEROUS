{
 "cells": [
  {
   "cell_type": "code",
   "execution_count": 1,
   "id": "8e0d1df6",
   "metadata": {},
   "outputs": [
    {
     "name": "stderr",
     "output_type": "stream",
     "text": [
      "Since the GPL-licensed package `unidecode` is not installed, using Python's `unicodedata` package which yields worse results.\n"
     ]
    }
   ],
   "source": [
    "from src.feverous.utils.wiki_window import *\n",
    "from src.feverous.utils.wiki_row import *"
   ]
  },
  {
   "cell_type": "code",
   "execution_count": 2,
   "id": "6745dda9",
   "metadata": {},
   "outputs": [],
   "source": [
    "from src.feverous.database.feverous_db import FeverousDB\n",
    "import numpy as np"
   ]
  },
  {
   "cell_type": "code",
   "execution_count": 4,
   "id": "eb36ec52",
   "metadata": {},
   "outputs": [],
   "source": [
    "db =  FeverousDB(\"/mnt/infonas/data/sushilk/MTP/FEVER/FEVEROUS-main/data/feverous_wikiv1.db\")"
   ]
  },
  {
   "cell_type": "code",
   "execution_count": 6,
   "id": "7086b88a",
   "metadata": {},
   "outputs": [],
   "source": [
    "title = '! (Cláudia Pascoal album)'\n",
    "page_json = db.get_doc_json(title)\n",
    "'''\n",
    "    Once we have the json, we create object of WikiPage\n",
    "        input: title T, json of wikipage under consideration\n",
    "        output: object of WikiPage\n",
    "    WikiPage provides various functionalities that can be used to read the underlying wikipage:\n",
    "        get_sentences()\n",
    "        get_context()\n",
    "        ...etc\n",
    "'''\n",
    "wiki_page = WikiPage(title, page_json)"
   ]
  },
  {
   "cell_type": "code",
   "execution_count": 7,
   "id": "0c2bde26",
   "metadata": {},
   "outputs": [],
   "source": [
    "window_obj = wiki_window(wiki_page)"
   ]
  },
  {
   "cell_type": "code",
   "execution_count": 8,
   "id": "e53cde0d",
   "metadata": {},
   "outputs": [
    {
     "data": {
      "text/plain": [
       "{'! (Cláudia Pascoal album)|window_intro_0': ['sentence_0',\n",
       "  'sentence_1',\n",
       "  'sentence_2',\n",
       "  'sentence_3']}"
      ]
     },
     "execution_count": 8,
     "metadata": {},
     "output_type": "execute_result"
    }
   ],
   "source": [
    "window_obj.get_all_windows()"
   ]
  },
  {
   "cell_type": "code",
   "execution_count": 9,
   "id": "dac3809f",
   "metadata": {},
   "outputs": [
    {
     "data": {
      "text/plain": [
       "'! (Cláudia Pascoal album) ! (pronounced \"\") is the debut [[Studio_album|studio album]] by Portuguese singer [[Cláudia_Pascoal|Cláudia Pascoal]]. It was released in Portugal on 27 March 2020 by Universal Music Portugal. The album peaked at number six on the [[Associação_Fonográfica_Portuguesa|Portuguese Albums Chart]].'"
      ]
     },
     "execution_count": 9,
     "metadata": {},
     "output_type": "execute_result"
    }
   ],
   "source": [
    "window_obj.get_window_content_and_context('! (Cláudia Pascoal album)|window_intro_0')"
   ]
  },
  {
   "cell_type": "code",
   "execution_count": 10,
   "id": "3aba0e64",
   "metadata": {},
   "outputs": [],
   "source": [
    "row_obj = wiki_row(wiki_page)"
   ]
  },
  {
   "cell_type": "code",
   "execution_count": 11,
   "id": "73a4840d",
   "metadata": {},
   "outputs": [
    {
     "data": {
      "text/plain": [
       "{'! (Cláudia Pascoal album)|table_0_ 0': ['header_cell_0_0_0',\n",
       "  'header_cell_0_0_0'],\n",
       " '! (Cláudia Pascoal album)|table_0_ 1': ['header_cell_0_1_0',\n",
       "  'header_cell_0_1_0'],\n",
       " '! (Cláudia Pascoal album)|table_0_ 2': ['header_cell_0_2_0', 'cell_0_2_1'],\n",
       " '! (Cláudia Pascoal album)|table_0_ 3': ['header_cell_0_3_0', 'cell_0_3_1'],\n",
       " '! (Cláudia Pascoal album)|table_0_ 4': ['header_cell_0_4_0', 'cell_0_4_1'],\n",
       " '! (Cláudia Pascoal album)|table_0_ 5': ['header_cell_0_5_0',\n",
       "  'header_cell_0_5_0'],\n",
       " '! (Cláudia Pascoal album)|table_1_ 0': ['header_cell_1_0_0',\n",
       "  'header_cell_1_0_1'],\n",
       " '! (Cláudia Pascoal album)|table_1_ 1': ['header_cell_1_1_0', 'cell_1_1_1'],\n",
       " '! (Cláudia Pascoal album)|table_2_ 0': ['header_cell_2_0_0',\n",
       "  'header_cell_2_0_1',\n",
       "  'header_cell_2_0_2',\n",
       "  'header_cell_2_0_3'],\n",
       " '! (Cláudia Pascoal album)|table_2_ 1': ['header_cell_2_1_0',\n",
       "  'cell_2_1_1',\n",
       "  'cell_2_1_2',\n",
       "  'cell_2_1_3']}"
      ]
     },
     "execution_count": 11,
     "metadata": {},
     "output_type": "execute_result"
    }
   ],
   "source": [
    "row_obj.get_all_rows()"
   ]
  },
  {
   "cell_type": "code",
   "execution_count": 12,
   "id": "4f1ae16c",
   "metadata": {},
   "outputs": [
    {
     "data": {
      "text/plain": [
       "'! (Cláudia Pascoal album) Release history Region Portugal Date 27 March 2020 Format  Label Universal Music Portugal'"
      ]
     },
     "execution_count": 12,
     "metadata": {},
     "output_type": "execute_result"
    }
   ],
   "source": [
    "row_obj.get_row_content_and_context('! (Cláudia Pascoal album)|table_2_ 1')"
   ]
  },
  {
   "cell_type": "code",
   "execution_count": 13,
   "id": "269b8480",
   "metadata": {},
   "outputs": [],
   "source": [
    "#Let's try ELQ"
   ]
  },
  {
   "cell_type": "code",
   "execution_count": null,
   "id": "5fa03931",
   "metadata": {},
   "outputs": [],
   "source": []
  },
  {
   "cell_type": "code",
   "execution_count": 14,
   "id": "6c27047b",
   "metadata": {
    "scrolled": true
   },
   "outputs": [],
   "source": [
    "row_graph = row_obj.get_row_graph('! (Cláudia Pascoal album)|table_2_ 1')"
   ]
  },
  {
   "cell_type": "code",
   "execution_count": 15,
   "id": "2a4c110f",
   "metadata": {},
   "outputs": [
    {
     "data": {
      "text/plain": [
       "{'! (Cláudia Pascoal album)|header_cell_2_1_0': 'Portugal',\n",
       " '! (Cláudia Pascoal album)|header_cell_2_0_0': 'Region',\n",
       " '! (Cláudia Pascoal album)|cell_2_1_1': '27 March 2020',\n",
       " '! (Cláudia Pascoal album)|header_cell_2_0_1': 'Date',\n",
       " '! (Cláudia Pascoal album)|cell_2_1_2': '',\n",
       " '! (Cláudia Pascoal album)|header_cell_2_0_2': 'Format',\n",
       " '! (Cláudia Pascoal album)|cell_2_1_3': 'Universal Music Portugal',\n",
       " '! (Cláudia Pascoal album)|header_cell_2_0_3': 'Label',\n",
       " '! (Cláudia Pascoal album)|! (Cláudia Pascoal album)|table_2_ 1': ''}"
      ]
     },
     "execution_count": 15,
     "metadata": {},
     "output_type": "execute_result"
    }
   ],
   "source": [
    "row_graph[0]"
   ]
  },
  {
   "cell_type": "code",
   "execution_count": 16,
   "id": "e295deb1",
   "metadata": {},
   "outputs": [],
   "source": [
    "import networkx as nx\n",
    "import matplotlib.pyplot as plt\n"
   ]
  },
  {
   "cell_type": "code",
   "execution_count": 17,
   "id": "38905779",
   "metadata": {},
   "outputs": [],
   "source": [
    "G = nx.Graph()"
   ]
  },
  {
   "cell_type": "code",
   "execution_count": 18,
   "id": "0c7ce567",
   "metadata": {},
   "outputs": [],
   "source": [
    "for node,content in row_graph[0].items():\n",
    "    G.add_node(node)\n",
    "    G.nodes[node]['content'] = content"
   ]
  },
  {
   "cell_type": "code",
   "execution_count": 19,
   "id": "e90c196e",
   "metadata": {},
   "outputs": [],
   "source": [
    "for edge in row_graph[1]:\n",
    "    G.add_edge(edge[0], edge[1])"
   ]
  },
  {
   "cell_type": "code",
   "execution_count": 20,
   "id": "5a8226fd",
   "metadata": {},
   "outputs": [
    {
     "ename": "NetworkXError",
     "evalue": "random_state_index is incorrect",
     "output_type": "error",
     "traceback": [
      "\u001b[0;31m---------------------------------------------------------------------------\u001b[0m",
      "\u001b[0;31mIndexError\u001b[0m                                Traceback (most recent call last)",
      "\u001b[0;32m~/.conda/envs/env1/lib/python3.8/site-packages/networkx/utils/decorators.py\u001b[0m in \u001b[0;36m_random_state\u001b[0;34m(func, *args, **kwargs)\u001b[0m\n\u001b[1;32m    395\u001b[0m         \u001b[0;32mtry\u001b[0m\u001b[0;34m:\u001b[0m\u001b[0;34m\u001b[0m\u001b[0;34m\u001b[0m\u001b[0m\n\u001b[0;32m--> 396\u001b[0;31m             \u001b[0mrandom_state_arg\u001b[0m \u001b[0;34m=\u001b[0m \u001b[0margs\u001b[0m\u001b[0;34m[\u001b[0m\u001b[0mrandom_state_index\u001b[0m\u001b[0;34m]\u001b[0m\u001b[0;34m\u001b[0m\u001b[0;34m\u001b[0m\u001b[0m\n\u001b[0m\u001b[1;32m    397\u001b[0m         \u001b[0;32mexcept\u001b[0m \u001b[0mTypeError\u001b[0m \u001b[0;32mas\u001b[0m \u001b[0me\u001b[0m\u001b[0;34m:\u001b[0m\u001b[0;34m\u001b[0m\u001b[0;34m\u001b[0m\u001b[0m\n",
      "\u001b[0;31mIndexError\u001b[0m: tuple index out of range",
      "\nThe above exception was the direct cause of the following exception:\n",
      "\u001b[0;31mNetworkXError\u001b[0m                             Traceback (most recent call last)",
      "\u001b[0;32m<ipython-input-20-9a27573cf44b>\u001b[0m in \u001b[0;36m<module>\u001b[0;34m\u001b[0m\n\u001b[0;32m----> 1\u001b[0;31m \u001b[0mnx\u001b[0m\u001b[0;34m.\u001b[0m\u001b[0mdraw\u001b[0m\u001b[0;34m(\u001b[0m\u001b[0mG\u001b[0m \u001b[0;34m,\u001b[0m \u001b[0mwith_labels\u001b[0m \u001b[0;34m=\u001b[0m \u001b[0;32mTrue\u001b[0m\u001b[0;34m)\u001b[0m\u001b[0;34m\u001b[0m\u001b[0;34m\u001b[0m\u001b[0m\n\u001b[0m\u001b[1;32m      2\u001b[0m \u001b[0mplt\u001b[0m\u001b[0;34m.\u001b[0m\u001b[0msavefig\u001b[0m\u001b[0;34m(\u001b[0m\u001b[0;34m\"row.png\"\u001b[0m\u001b[0;34m)\u001b[0m\u001b[0;34m\u001b[0m\u001b[0;34m\u001b[0m\u001b[0m\n\u001b[1;32m      3\u001b[0m \u001b[0mplt\u001b[0m\u001b[0;34m.\u001b[0m\u001b[0mshow\u001b[0m\u001b[0;34m(\u001b[0m\u001b[0;34m)\u001b[0m\u001b[0;34m\u001b[0m\u001b[0;34m\u001b[0m\u001b[0m\n",
      "\u001b[0;32m~/.conda/envs/env1/lib/python3.8/site-packages/networkx/drawing/nx_pylab.py\u001b[0m in \u001b[0;36mdraw\u001b[0;34m(G, pos, ax, **kwds)\u001b[0m\n\u001b[1;32m    121\u001b[0m         \u001b[0mkwds\u001b[0m\u001b[0;34m[\u001b[0m\u001b[0;34m\"with_labels\"\u001b[0m\u001b[0;34m]\u001b[0m \u001b[0;34m=\u001b[0m \u001b[0;34m\"labels\"\u001b[0m \u001b[0;32min\u001b[0m \u001b[0mkwds\u001b[0m\u001b[0;34m\u001b[0m\u001b[0;34m\u001b[0m\u001b[0m\n\u001b[1;32m    122\u001b[0m \u001b[0;34m\u001b[0m\u001b[0m\n\u001b[0;32m--> 123\u001b[0;31m     \u001b[0mdraw_networkx\u001b[0m\u001b[0;34m(\u001b[0m\u001b[0mG\u001b[0m\u001b[0;34m,\u001b[0m \u001b[0mpos\u001b[0m\u001b[0;34m=\u001b[0m\u001b[0mpos\u001b[0m\u001b[0;34m,\u001b[0m \u001b[0max\u001b[0m\u001b[0;34m=\u001b[0m\u001b[0max\u001b[0m\u001b[0;34m,\u001b[0m \u001b[0;34m**\u001b[0m\u001b[0mkwds\u001b[0m\u001b[0;34m)\u001b[0m\u001b[0;34m\u001b[0m\u001b[0;34m\u001b[0m\u001b[0m\n\u001b[0m\u001b[1;32m    124\u001b[0m     \u001b[0max\u001b[0m\u001b[0;34m.\u001b[0m\u001b[0mset_axis_off\u001b[0m\u001b[0;34m(\u001b[0m\u001b[0;34m)\u001b[0m\u001b[0;34m\u001b[0m\u001b[0;34m\u001b[0m\u001b[0m\n\u001b[1;32m    125\u001b[0m     \u001b[0mplt\u001b[0m\u001b[0;34m.\u001b[0m\u001b[0mdraw_if_interactive\u001b[0m\u001b[0;34m(\u001b[0m\u001b[0;34m)\u001b[0m\u001b[0;34m\u001b[0m\u001b[0;34m\u001b[0m\u001b[0m\n",
      "\u001b[0;32m~/.conda/envs/env1/lib/python3.8/site-packages/networkx/drawing/nx_pylab.py\u001b[0m in \u001b[0;36mdraw_networkx\u001b[0;34m(G, pos, arrows, with_labels, **kwds)\u001b[0m\n\u001b[1;32m    331\u001b[0m \u001b[0;34m\u001b[0m\u001b[0m\n\u001b[1;32m    332\u001b[0m     \u001b[0;32mif\u001b[0m \u001b[0mpos\u001b[0m \u001b[0;32mis\u001b[0m \u001b[0;32mNone\u001b[0m\u001b[0;34m:\u001b[0m\u001b[0;34m\u001b[0m\u001b[0;34m\u001b[0m\u001b[0m\n\u001b[0;32m--> 333\u001b[0;31m         \u001b[0mpos\u001b[0m \u001b[0;34m=\u001b[0m \u001b[0mnx\u001b[0m\u001b[0;34m.\u001b[0m\u001b[0mdrawing\u001b[0m\u001b[0;34m.\u001b[0m\u001b[0mspring_layout\u001b[0m\u001b[0;34m(\u001b[0m\u001b[0mG\u001b[0m\u001b[0;34m)\u001b[0m  \u001b[0;31m# default to spring layout\u001b[0m\u001b[0;34m\u001b[0m\u001b[0;34m\u001b[0m\u001b[0m\n\u001b[0m\u001b[1;32m    334\u001b[0m \u001b[0;34m\u001b[0m\u001b[0m\n\u001b[1;32m    335\u001b[0m     \u001b[0mdraw_networkx_nodes\u001b[0m\u001b[0;34m(\u001b[0m\u001b[0mG\u001b[0m\u001b[0;34m,\u001b[0m \u001b[0mpos\u001b[0m\u001b[0;34m,\u001b[0m \u001b[0;34m**\u001b[0m\u001b[0mnode_kwds\u001b[0m\u001b[0;34m)\u001b[0m\u001b[0;34m\u001b[0m\u001b[0;34m\u001b[0m\u001b[0m\n",
      "\u001b[0;32m~/.conda/envs/env1/lib/python3.8/site-packages/decorator.py\u001b[0m in \u001b[0;36mfun\u001b[0;34m(*args, **kw)\u001b[0m\n\u001b[1;32m    229\u001b[0m             \u001b[0;32mif\u001b[0m \u001b[0;32mnot\u001b[0m \u001b[0mkwsyntax\u001b[0m\u001b[0;34m:\u001b[0m\u001b[0;34m\u001b[0m\u001b[0;34m\u001b[0m\u001b[0m\n\u001b[1;32m    230\u001b[0m                 \u001b[0margs\u001b[0m\u001b[0;34m,\u001b[0m \u001b[0mkw\u001b[0m \u001b[0;34m=\u001b[0m \u001b[0mfix\u001b[0m\u001b[0;34m(\u001b[0m\u001b[0margs\u001b[0m\u001b[0;34m,\u001b[0m \u001b[0mkw\u001b[0m\u001b[0;34m,\u001b[0m \u001b[0msig\u001b[0m\u001b[0;34m)\u001b[0m\u001b[0;34m\u001b[0m\u001b[0;34m\u001b[0m\u001b[0m\n\u001b[0;32m--> 231\u001b[0;31m             \u001b[0;32mreturn\u001b[0m \u001b[0mcaller\u001b[0m\u001b[0;34m(\u001b[0m\u001b[0mfunc\u001b[0m\u001b[0;34m,\u001b[0m \u001b[0;34m*\u001b[0m\u001b[0;34m(\u001b[0m\u001b[0mextras\u001b[0m \u001b[0;34m+\u001b[0m \u001b[0margs\u001b[0m\u001b[0;34m)\u001b[0m\u001b[0;34m,\u001b[0m \u001b[0;34m**\u001b[0m\u001b[0mkw\u001b[0m\u001b[0;34m)\u001b[0m\u001b[0;34m\u001b[0m\u001b[0;34m\u001b[0m\u001b[0m\n\u001b[0m\u001b[1;32m    232\u001b[0m     \u001b[0mfun\u001b[0m\u001b[0;34m.\u001b[0m\u001b[0m__name__\u001b[0m \u001b[0;34m=\u001b[0m \u001b[0mfunc\u001b[0m\u001b[0;34m.\u001b[0m\u001b[0m__name__\u001b[0m\u001b[0;34m\u001b[0m\u001b[0;34m\u001b[0m\u001b[0m\n\u001b[1;32m    233\u001b[0m     \u001b[0mfun\u001b[0m\u001b[0;34m.\u001b[0m\u001b[0m__doc__\u001b[0m \u001b[0;34m=\u001b[0m \u001b[0mfunc\u001b[0m\u001b[0;34m.\u001b[0m\u001b[0m__doc__\u001b[0m\u001b[0;34m\u001b[0m\u001b[0;34m\u001b[0m\u001b[0m\n",
      "\u001b[0;32m~/.conda/envs/env1/lib/python3.8/site-packages/networkx/utils/decorators.py\u001b[0m in \u001b[0;36m_random_state\u001b[0;34m(func, *args, **kwargs)\u001b[0m\n\u001b[1;32m    398\u001b[0m             \u001b[0;32mraise\u001b[0m \u001b[0mnx\u001b[0m\u001b[0;34m.\u001b[0m\u001b[0mNetworkXError\u001b[0m\u001b[0;34m(\u001b[0m\u001b[0;34m\"random_state_index must be an integer\"\u001b[0m\u001b[0;34m)\u001b[0m \u001b[0;32mfrom\u001b[0m \u001b[0me\u001b[0m\u001b[0;34m\u001b[0m\u001b[0;34m\u001b[0m\u001b[0m\n\u001b[1;32m    399\u001b[0m         \u001b[0;32mexcept\u001b[0m \u001b[0mIndexError\u001b[0m \u001b[0;32mas\u001b[0m \u001b[0me\u001b[0m\u001b[0;34m:\u001b[0m\u001b[0;34m\u001b[0m\u001b[0;34m\u001b[0m\u001b[0m\n\u001b[0;32m--> 400\u001b[0;31m             \u001b[0;32mraise\u001b[0m \u001b[0mnx\u001b[0m\u001b[0;34m.\u001b[0m\u001b[0mNetworkXError\u001b[0m\u001b[0;34m(\u001b[0m\u001b[0;34m\"random_state_index is incorrect\"\u001b[0m\u001b[0;34m)\u001b[0m \u001b[0;32mfrom\u001b[0m \u001b[0me\u001b[0m\u001b[0;34m\u001b[0m\u001b[0;34m\u001b[0m\u001b[0m\n\u001b[0m\u001b[1;32m    401\u001b[0m \u001b[0;34m\u001b[0m\u001b[0m\n\u001b[1;32m    402\u001b[0m         \u001b[0;31m# Create a numpy.random.RandomState instance\u001b[0m\u001b[0;34m\u001b[0m\u001b[0;34m\u001b[0m\u001b[0;34m\u001b[0m\u001b[0m\n",
      "\u001b[0;31mNetworkXError\u001b[0m: random_state_index is incorrect"
     ]
    },
    {
     "data": {
      "image/png": "[encoded data removed]",
      "text/plain": [
       "<Figure size 432x288 with 1 Axes>"
      ]
     },
     "metadata": {},
     "output_type": "display_data"
    }
   ],
   "source": [
    "nx.draw(G , with_labels = True)\n",
    "#plt.savefig(\"row.png\")\n",
    "plt.show()"
   ]
  },
  {
   "cell_type": "code",
   "execution_count": 20,
   "id": "48e02172",
   "metadata": {},
   "outputs": [
    {
     "data": {
      "text/plain": [
       "<Figure size 432x288 with 0 Axes>"
      ]
     },
     "metadata": {},
     "output_type": "display_data"
    }
   ],
   "source": [
    "plt.savefig(\"row.png\")"
   ]
  },
  {
   "cell_type": "code",
   "execution_count": null,
   "id": "c6edb8d3",
   "metadata": {},
   "outputs": [],
   "source": []
  }
 ],
 "metadata": {
  "kernelspec": {
   "display_name": "Python 3 (ipykernel)",
   "language": "python",
   "name": "python3"
  },
  "language_info": {
   "codemirror_mode": {
    "name": "ipython",
    "version": 3
   },
   "file_extension": ".py",
   "mimetype": "text/x-python",
   "name": "python",
   "nbconvert_exporter": "python",
   "pygments_lexer": "ipython3",
   "version": "3.8.8"
  }
 },
 "nbformat": 4,
 "nbformat_minor": 5
}
